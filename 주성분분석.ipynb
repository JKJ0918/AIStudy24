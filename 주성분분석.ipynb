{
  "nbformat": 4,
  "nbformat_minor": 0,
  "metadata": {
    "colab": {
      "provenance": [],
      "authorship_tag": "ABX9TyNfttfHo0lARrGMUXQR+Luk",
      "include_colab_link": true
    },
    "kernelspec": {
      "name": "python3",
      "display_name": "Python 3"
    },
    "language_info": {
      "name": "python"
    }
  },
  "cells": [
    {
      "cell_type": "markdown",
      "metadata": {
        "id": "view-in-github",
        "colab_type": "text"
      },
      "source": [
        "<a href=\"https://colab.research.google.com/github/JKJ0918/AIStudy24/blob/master/%EC%A3%BC%EC%84%B1%EB%B6%84%EB%B6%84%EC%84%9D.ipynb\" target=\"_parent\"><img src=\"https://colab.research.google.com/assets/colab-badge.svg\" alt=\"Open In Colab\"/></a>"
      ]
    },
    {
      "cell_type": "markdown",
      "source": [
        "2025년 1월 8일 분.."
      ],
      "metadata": {
        "id": "STSngm3kPmRZ"
      }
    },
    {
      "cell_type": "code",
      "execution_count": null,
      "metadata": {
        "id": "NWyBuiLgPgt0"
      },
      "outputs": [],
      "source": [
        "# 사진이나 이미지 동영상 등은 대체적으로 용량이 커서 보관하기 힘들기 때문에\n",
        "# 주성분만 분석해서 가지고 있으면 디스크용량 등에 이로움 이 있다.(차원축소 알고리즘)\n",
        "#   데이터가 가진 속성을 특성이라고 함 (사진에 특성 : R:빨 G:녹 B:파 K:검 A:필터)\n",
        "#   -> 과일사진의 경우 10,000개의 픽셀이 있기 때문에 10,000개의 특성이 있다. -> 차원(dimension : 디멘션)"
      ]
    },
    {
      "cell_type": "code",
      "source": [
        "# 특성이 많으면 선형 모델의 성능이 높아지고 훈련 데이터에 쉽게 과대적합된다."
      ],
      "metadata": {
        "id": "xUpj6HLjRMqQ"
      },
      "execution_count": null,
      "outputs": []
    }
  ]
}